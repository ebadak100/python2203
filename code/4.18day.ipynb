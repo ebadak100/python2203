{
 "cells": [
  {
   "cell_type": "code",
   "execution_count": 5,
   "id": "a48d6c1c",
   "metadata": {},
   "outputs": [
    {
     "name": "stdout",
     "output_type": "stream",
     "text": [
      "x에 들어 있는 숫자는\n",
      "10입니다\n"
     ]
    }
   ],
   "source": [
    "x = 10\n",
    "\n",
    "if x == 10:\n",
    "    print('x에 들어 있는 숫자는')\n",
    "    print('10입니다')\n",
    "else:\n",
    "    print('10이 아닙니다')\n",
    "    "
   ]
  },
  {
   "cell_type": "code",
   "execution_count": 8,
   "id": "1a3c54a7",
   "metadata": {},
   "outputs": [
    {
     "name": "stdout",
     "output_type": "stream",
     "text": [
      "5이하의 숫자를 입력하세요10\n",
      "5이하의 숫자가 아닙니다\n"
     ]
    }
   ],
   "source": [
    "x = int(input('5이하의 숫자를 입력하세요'))\n",
    "\n",
    "if x == 5:\n",
    "    print('5입니다.')\n",
    "elif x == 4:\n",
    "    print('4입니다.')\n",
    "elif x == 3:\n",
    "    print('3입니다.')\n",
    "elif x == 2:\n",
    "    print('2입니다.')\n",
    "elif x == 1:\n",
    "    print('1입니다.')\n",
    "else:\n",
    "    print('5이하의 숫자가 아닙니다')\n",
    "\n"
   ]
  },
  {
   "cell_type": "code",
   "execution_count": 12,
   "id": "11666d55",
   "metadata": {},
   "outputs": [
    {
     "name": "stdout",
     "output_type": "stream",
     "text": [
      "1\n",
      "3\n",
      "6\n",
      "10\n",
      "15\n",
      "21\n",
      "28\n",
      "36\n",
      "45\n",
      "55\n"
     ]
    }
   ],
   "source": [
    "sum = 0\n",
    "for i in range(1,11):\n",
    "    sum = sum + i\n",
    "    print(sum)"
   ]
  },
  {
   "cell_type": "code",
   "execution_count": 15,
   "id": "12fe152a",
   "metadata": {},
   "outputs": [
    {
     "name": "stdout",
     "output_type": "stream",
     "text": [
      "* * * * \n",
      "* * * * \n",
      "* * * * \n",
      "* * * * \n",
      "* * * * \n"
     ]
    }
   ],
   "source": [
    "for i in range(5):\n",
    "    for j in range(4):\n",
    "        print('*',end=' ')\n",
    "    print()"
   ]
  },
  {
   "cell_type": "code",
   "execution_count": 25,
   "id": "3d49f841",
   "metadata": {},
   "outputs": [
    {
     "name": "stdout",
     "output_type": "stream",
     "text": [
      "줄수를 입력하세요4\n",
      "*\n",
      "**\n",
      "***\n",
      "****\n"
     ]
    }
   ],
   "source": [
    "x = int(input('줄수를 입력하세요'))\n",
    "\n",
    "for i in range(1,x+1):\n",
    "    for j in range(i):\n",
    "        print('*', end='')\n",
    "    print()"
   ]
  },
  {
   "cell_type": "code",
   "execution_count": 24,
   "id": "07c43412",
   "metadata": {},
   "outputs": [
    {
     "name": "stdout",
     "output_type": "stream",
     "text": [
      "줄수를 입력하세요4\n",
      "   *\n",
      "  **\n",
      " ***\n",
      "****\n"
     ]
    }
   ],
   "source": [
    "x = int(input('줄수를 입력하세요'))\n",
    "\n",
    "for i in range(1,x+1):\n",
    "    for j in range(x-i):\n",
    "        print(' ',end='')\n",
    "    for j in range(i):\n",
    "        print('*', end='')\n",
    "    print()"
   ]
  },
  {
   "cell_type": "code",
   "execution_count": 18,
   "id": "8b84f0c8",
   "metadata": {},
   "outputs": [
    {
     "name": "stdout",
     "output_type": "stream",
     "text": [
      "2\n",
      "2 * 1 = 2\n",
      "2 * 2 = 4\n",
      "2 * 3 = 6\n",
      "2 * 4 = 8\n",
      "2 * 5 = 10\n",
      "2 * 6 = 12\n",
      "2 * 7 = 14\n",
      "2 * 8 = 16\n",
      "2 * 9 = 18\n"
     ]
    }
   ],
   "source": [
    "n = int(input()) # 구구단의 단수\n",
    "\n",
    "for i in range(1,10):\n",
    "    # print(n,'*',i,'=',n*i)\n",
    "    print('%d * %d = %d'%(n,i,n*i))\n",
    "    "
   ]
  },
  {
   "cell_type": "code",
   "execution_count": 20,
   "id": "c27bdf77",
   "metadata": {},
   "outputs": [
    {
     "name": "stdout",
     "output_type": "stream",
     "text": [
      " * 구구단을 출력합니다.\n",
      "------ 2 단입니다.------\n",
      "2 * 1 = 2\n",
      "2 * 2 = 4\n",
      "2 * 3 = 6\n",
      "2 * 4 = 8\n",
      "2 * 5 = 10\n",
      "2 * 6 = 12\n",
      "2 * 7 = 14\n",
      "2 * 8 = 16\n",
      "2 * 9 = 18\n",
      "------ 3 단입니다.------\n",
      "3 * 1 = 3\n",
      "3 * 2 = 6\n",
      "3 * 3 = 9\n",
      "3 * 4 = 12\n",
      "3 * 5 = 15\n",
      "3 * 6 = 18\n",
      "3 * 7 = 21\n",
      "3 * 8 = 24\n",
      "3 * 9 = 27\n",
      "------ 4 단입니다.------\n",
      "4 * 1 = 4\n",
      "4 * 2 = 8\n",
      "4 * 3 = 12\n",
      "4 * 4 = 16\n",
      "4 * 5 = 20\n",
      "4 * 6 = 24\n",
      "4 * 7 = 28\n",
      "4 * 8 = 32\n",
      "4 * 9 = 36\n",
      "------ 5 단입니다.------\n",
      "5 * 1 = 5\n",
      "5 * 2 = 10\n",
      "5 * 3 = 15\n",
      "5 * 4 = 20\n",
      "5 * 5 = 25\n",
      "5 * 6 = 30\n",
      "5 * 7 = 35\n",
      "5 * 8 = 40\n",
      "5 * 9 = 45\n",
      "------ 6 단입니다.------\n",
      "6 * 1 = 6\n",
      "6 * 2 = 12\n",
      "6 * 3 = 18\n",
      "6 * 4 = 24\n",
      "6 * 5 = 30\n",
      "6 * 6 = 36\n",
      "6 * 7 = 42\n",
      "6 * 8 = 48\n",
      "6 * 9 = 54\n",
      "------ 7 단입니다.------\n",
      "7 * 1 = 7\n",
      "7 * 2 = 14\n",
      "7 * 3 = 21\n",
      "7 * 4 = 28\n",
      "7 * 5 = 35\n",
      "7 * 6 = 42\n",
      "7 * 7 = 49\n",
      "7 * 8 = 56\n",
      "7 * 9 = 63\n",
      "------ 8 단입니다.------\n",
      "8 * 1 = 8\n",
      "8 * 2 = 16\n",
      "8 * 3 = 24\n",
      "8 * 4 = 32\n",
      "8 * 5 = 40\n",
      "8 * 6 = 48\n",
      "8 * 7 = 56\n",
      "8 * 8 = 64\n",
      "8 * 9 = 72\n",
      "------ 9 단입니다.------\n",
      "9 * 1 = 9\n",
      "9 * 2 = 18\n",
      "9 * 3 = 27\n",
      "9 * 4 = 36\n",
      "9 * 5 = 45\n",
      "9 * 6 = 54\n",
      "9 * 7 = 63\n",
      "9 * 8 = 72\n",
      "9 * 9 = 81\n"
     ]
    }
   ],
   "source": [
    "print(\" * 구구단을 출력합니다.\")\n",
    "for i in range(2,10):\n",
    "    print(\"------ %d 단입니다.------\"%i)\n",
    "    for k in range(1,10):\n",
    "        print('%d * %d = %d'%(i,k,i*k))\n",
    "        "
   ]
  },
  {
   "cell_type": "code",
   "execution_count": 31,
   "id": "95054410",
   "metadata": {},
   "outputs": [
    {
     "name": "stdout",
     "output_type": "stream",
     "text": [
      "Hello, world 0\n",
      "Hello, world 1\n",
      "Hello, world 2\n",
      "Hello, world 3\n",
      "Hello, world 4\n",
      "Hello, world 5\n",
      "Hello, world 6\n",
      "Hello, world 7\n",
      "Hello, world 8\n",
      "Hello, world 9\n",
      "Hello, world 10\n",
      "Hello, world 11\n",
      "Hello, world 12\n",
      "Hello, world 13\n",
      "Hello, world 14\n",
      "Hello, world 15\n",
      "Hello, world 16\n",
      "Hello, world 17\n",
      "Hello, world 18\n",
      "Hello, world 19\n",
      "Hello, world 20\n",
      "Hello, world 21\n",
      "Hello, world 22\n",
      "Hello, world 23\n",
      "Hello, world 24\n",
      "Hello, world 25\n",
      "Hello, world 26\n",
      "Hello, world 27\n",
      "Hello, world 28\n",
      "Hello, world 29\n",
      "Hello, world 30\n",
      "Hello, world 31\n",
      "Hello, world 32\n",
      "Hello, world 33\n",
      "Hello, world 34\n",
      "Hello, world 35\n",
      "Hello, world 36\n",
      "Hello, world 37\n",
      "Hello, world 38\n",
      "Hello, world 39\n",
      "Hello, world 40\n",
      "Hello, world 41\n",
      "Hello, world 42\n",
      "Hello, world 43\n",
      "Hello, world 44\n",
      "Hello, world 45\n",
      "Hello, world 46\n",
      "Hello, world 47\n",
      "Hello, world 48\n",
      "Hello, world 49\n",
      "Hello, world 50\n",
      "Hello, world 51\n",
      "Hello, world 52\n",
      "Hello, world 53\n",
      "Hello, world 54\n",
      "Hello, world 55\n",
      "Hello, world 56\n",
      "Hello, world 57\n",
      "Hello, world 58\n",
      "Hello, world 59\n",
      "Hello, world 60\n",
      "Hello, world 61\n",
      "Hello, world 62\n",
      "Hello, world 63\n",
      "Hello, world 64\n",
      "Hello, world 65\n",
      "Hello, world 66\n",
      "Hello, world 67\n",
      "Hello, world 68\n",
      "Hello, world 69\n",
      "Hello, world 70\n",
      "Hello, world 71\n",
      "Hello, world 72\n",
      "Hello, world 73\n",
      "Hello, world 74\n",
      "Hello, world 75\n",
      "Hello, world 76\n",
      "Hello, world 77\n",
      "Hello, world 78\n",
      "Hello, world 79\n",
      "Hello, world 80\n",
      "Hello, world 81\n",
      "Hello, world 82\n",
      "Hello, world 83\n",
      "Hello, world 84\n",
      "Hello, world 85\n",
      "Hello, world 86\n",
      "Hello, world 87\n",
      "Hello, world 88\n",
      "Hello, world 89\n",
      "Hello, world 90\n",
      "Hello, world 91\n",
      "Hello, world 92\n",
      "Hello, world 93\n",
      "Hello, world 94\n",
      "Hello, world 95\n",
      "Hello, world 96\n",
      "Hello, world 97\n",
      "Hello, world 98\n",
      "Hello, world 99\n"
     ]
    }
   ],
   "source": [
    "i = 0\n",
    "while i < 100:\n",
    "    print('Hello, world',i)\n",
    "    i += 1\n",
    "    \n",
    "    \n"
   ]
  },
  {
   "cell_type": "code",
   "execution_count": 32,
   "id": "f16a40c8",
   "metadata": {},
   "outputs": [
    {
     "name": "stdout",
     "output_type": "stream",
     "text": [
      "반복할 횟수를 입력하세요 :10\n",
      "hello, world! 10\n",
      "hello, world! 9\n",
      "hello, world! 8\n",
      "hello, world! 7\n",
      "hello, world! 6\n",
      "hello, world! 5\n",
      "hello, world! 4\n",
      "hello, world! 3\n",
      "hello, world! 2\n",
      "hello, world! 1\n"
     ]
    }
   ],
   "source": [
    "count = int(input('반복할 횟수를 입력하세요 :'))\n",
    "\n",
    "while count >0 :\n",
    "    print('hello, world!',count)\n",
    "    count -= 1\n",
    "    "
   ]
  },
  {
   "cell_type": "code",
   "execution_count": 33,
   "id": "83727e88",
   "metadata": {},
   "outputs": [
    {
     "name": "stdout",
     "output_type": "stream",
     "text": [
      "0\n",
      "1\n",
      "2\n",
      "3\n",
      "4\n",
      "---------------\n",
      "0\n",
      "1\n",
      "2\n",
      "3\n",
      "4\n"
     ]
    }
   ],
   "source": [
    "for i in range(0,5):\n",
    "    print(i)\n",
    "print('---------------')\n",
    "\n",
    "i = 0\n",
    "while i < 5:\n",
    "    print(i)\n",
    "    i += 1\n",
    "    "
   ]
  },
  {
   "cell_type": "code",
   "execution_count": 34,
   "id": "3d400b1f",
   "metadata": {},
   "outputs": [
    {
     "name": "stdout",
     "output_type": "stream",
     "text": [
      "0\n",
      "1\n",
      "2\n",
      "3\n",
      "4\n",
      "5\n",
      "6\n",
      "7\n",
      "8\n",
      "9\n",
      "10\n",
      "11\n",
      "12\n",
      "13\n",
      "14\n",
      "15\n",
      "16\n",
      "17\n",
      "18\n",
      "19\n",
      "20\n",
      "21\n",
      "22\n",
      "23\n",
      "24\n",
      "25\n",
      "26\n",
      "27\n",
      "28\n",
      "29\n",
      "30\n",
      "31\n",
      "32\n",
      "33\n",
      "34\n",
      "35\n",
      "36\n",
      "37\n",
      "38\n",
      "39\n",
      "40\n",
      "41\n",
      "42\n",
      "43\n",
      "44\n",
      "45\n",
      "46\n",
      "47\n",
      "48\n",
      "49\n",
      "50\n",
      "51\n",
      "52\n",
      "53\n",
      "54\n",
      "55\n",
      "56\n",
      "57\n",
      "58\n",
      "59\n",
      "60\n",
      "61\n",
      "62\n",
      "63\n",
      "64\n",
      "65\n",
      "66\n",
      "67\n",
      "68\n",
      "69\n",
      "70\n",
      "71\n",
      "72\n",
      "73\n",
      "74\n",
      "75\n",
      "76\n",
      "77\n",
      "78\n",
      "79\n",
      "80\n",
      "81\n",
      "82\n",
      "83\n",
      "84\n",
      "85\n",
      "86\n",
      "87\n",
      "88\n",
      "89\n",
      "90\n",
      "91\n",
      "92\n",
      "93\n",
      "94\n",
      "95\n",
      "96\n",
      "97\n",
      "98\n",
      "99\n"
     ]
    }
   ],
   "source": [
    "i = 0\n",
    "while True:\n",
    "    print(i)\n",
    "    i += 1\n",
    "    if i == 100:\n",
    "        break"
   ]
  },
  {
   "cell_type": "code",
   "execution_count": 38,
   "id": "84b3092f",
   "metadata": {},
   "outputs": [
    {
     "name": "stdout",
     "output_type": "stream",
     "text": [
      "3   13   23   33   43   53   63   73   83   93   "
     ]
    }
   ],
   "source": [
    "# 100보다 작은값중 3으로 끝나는 숫자만 출력하시오.\n",
    "i = 0\n",
    "while True: # 무한 반복\n",
    "    if i % 10 !=3: # 3으로 끝나는 않으면\n",
    "        i += 1 # 1씩 증가시켜라\n",
    "        continue # while문으로 보내라\n",
    "    if i > 100:\n",
    "        break\n",
    "    print(i, end='   ')\n",
    "    i += 1\n",
    "    \n",
    "    \n"
   ]
  },
  {
   "cell_type": "code",
   "execution_count": 39,
   "id": "cac040f1",
   "metadata": {},
   "outputs": [
    {
     "name": "stdout",
     "output_type": "stream",
     "text": [
      "1\n",
      "3\n",
      "5\n",
      "7\n",
      "9\n",
      "11\n",
      "13\n",
      "15\n",
      "17\n",
      "19\n",
      "21\n",
      "23\n",
      "25\n",
      "27\n",
      "29\n",
      "31\n",
      "33\n",
      "35\n",
      "37\n",
      "39\n",
      "41\n",
      "43\n",
      "45\n",
      "47\n",
      "49\n",
      "51\n",
      "53\n",
      "55\n",
      "57\n",
      "59\n",
      "61\n",
      "63\n",
      "65\n",
      "67\n",
      "69\n",
      "71\n",
      "73\n",
      "75\n",
      "77\n",
      "79\n",
      "81\n",
      "83\n",
      "85\n",
      "87\n",
      "89\n",
      "91\n",
      "93\n",
      "95\n",
      "97\n",
      "99\n"
     ]
    }
   ],
   "source": [
    "for i in range(100):\n",
    "    if i % 2 == 0:\n",
    "        continue\n",
    "    print(i)\n"
   ]
  },
  {
   "cell_type": "code",
   "execution_count": 40,
   "id": "ffd44961",
   "metadata": {},
   "outputs": [
    {
     "name": "stdout",
     "output_type": "stream",
     "text": [
      "반복할 횟수를 입력하세요 :10\n",
      "0\n",
      "1\n",
      "2\n",
      "3\n",
      "4\n",
      "5\n",
      "6\n",
      "7\n",
      "8\n",
      "9\n"
     ]
    }
   ],
   "source": [
    "count = int(input('반복할 횟수를 입력하세요 :'))\n",
    "\n",
    "i = 0\n",
    "while True:\n",
    "    print(i)\n",
    "    i += 1\n",
    "    if i == count:\n",
    "        break\n",
    "        "
   ]
  },
  {
   "cell_type": "code",
   "execution_count": 42,
   "id": "f19270c8",
   "metadata": {},
   "outputs": [
    {
     "name": "stdout",
     "output_type": "stream",
     "text": [
      "1~100의 합계(3의 배수만) : 1683\n"
     ]
    }
   ],
   "source": [
    "sum, i = 0,0\n",
    "for i in range(1,101):\n",
    "    if i % 3 !=0:\n",
    "        continue\n",
    "    sum += i\n",
    "print('1~100의 합계(3의 배수만) : %d'%sum)"
   ]
  },
  {
   "cell_type": "code",
   "execution_count": 44,
   "id": "25c86aaf",
   "metadata": {},
   "outputs": [
    {
     "name": "stdout",
     "output_type": "stream",
     "text": [
      "3 13 23 33 43 53 63 73 83 93 "
     ]
    }
   ],
   "source": [
    "i = 0\n",
    "while True:\n",
    "    if i % 10 != 3:\n",
    "        i += 1\n",
    "        continue\n",
    "    if i > 100:\n",
    "        break\n",
    "    print(i, end=' ')\n",
    "    i +=1"
   ]
  },
  {
   "cell_type": "code",
   "execution_count": 45,
   "id": "938c5867",
   "metadata": {},
   "outputs": [
    {
     "name": "stdout",
     "output_type": "stream",
     "text": [
      "10 90\n",
      "10  11  12  14  15  16  17  18  19  20  21  22  24  25  26  27  28  29  30  31  32  34  35  36  37  38  39  40  41  42  44  45  46  47  48  49  50  51  52  54  55  56  57  58  59  60  61  62  64  65  66  67  68  69  70  71  72  74  75  76  77  78  79  80  81  82  84  85  86  87  88  89  90  "
     ]
    }
   ],
   "source": [
    "start, stop = map(int, input().split())\n",
    "i = start\n",
    "\n",
    "while True:\n",
    "    if i % 10 == 3:\n",
    "        i += 1\n",
    "        continue\n",
    "    if i > stop:\n",
    "        break\n",
    "    print(i,end='  ')\n",
    "    i += 1\n",
    "    \n",
    "    \n",
    "    "
   ]
  },
  {
   "cell_type": "code",
   "execution_count": null,
   "id": "1e3f11c0",
   "metadata": {},
   "outputs": [],
   "source": []
  },
  {
   "cell_type": "code",
   "execution_count": null,
   "id": "c573761a",
   "metadata": {},
   "outputs": [],
   "source": []
  },
  {
   "cell_type": "code",
   "execution_count": null,
   "id": "69fcc67c",
   "metadata": {},
   "outputs": [],
   "source": []
  }
 ],
 "metadata": {
  "kernelspec": {
   "display_name": "Python 3 (ipykernel)",
   "language": "python",
   "name": "python3"
  },
  "language_info": {
   "codemirror_mode": {
    "name": "ipython",
    "version": 3
   },
   "file_extension": ".py",
   "mimetype": "text/x-python",
   "name": "python",
   "nbconvert_exporter": "python",
   "pygments_lexer": "ipython3",
   "version": "3.10.4"
  }
 },
 "nbformat": 4,
 "nbformat_minor": 5
}
