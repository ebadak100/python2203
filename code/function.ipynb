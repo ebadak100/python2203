{
 "cells": [
  {
   "cell_type": "code",
   "execution_count": 2,
   "id": "99b371ff",
   "metadata": {},
   "outputs": [
    {
     "name": "stdout",
     "output_type": "stream",
     "text": [
      "계산을 입력하세요(+, -, *, /) :*\n",
      "첫 번째 수를 입력하세요 :7\n",
      "두 번째 수를 입력하세요 :8\n",
      "## 계산기 : 7 * 8 = 56\n"
     ]
    }
   ],
   "source": [
    "## 함수 기본 부분 ##\n",
    "## 함수 선언 부분 ##\n",
    "def calc(v1, v2, op):\n",
    "    result = 0\n",
    "    if op == '+':\n",
    "        result = v1 + v2\n",
    "    elif op == '-':\n",
    "        result = v1 - v2\n",
    "    elif op == '*':\n",
    "        result = v1 * v2\n",
    "        \n",
    "    return result\n",
    "\n",
    "## 전역 변수 선언 부분 ##\n",
    "res = 0\n",
    "var1, var2, oper = 0,0,\"\"\n",
    "\n",
    "## 메인코드 부분 ##\n",
    "oper = input('계산을 입력하세요(+, -, *, /) :')\n",
    "var1 = int(input('첫 번째 수를 입력하세요 :'))\n",
    "var2 = int(input('두 번째 수를 입력하세요 :')) \n",
    "\n",
    "res = calc(var1, var2, oper)\n",
    "\n",
    "print('## 계산기 : %d %s %d = %d'%(var1, oper, var2, res))"
   ]
  },
  {
   "cell_type": "code",
   "execution_count": 7,
   "id": "d5386fba",
   "metadata": {},
   "outputs": [
    {
     "name": "stdout",
     "output_type": "stream",
     "text": [
      "** 로또 추첨을 시작합니다. **\n",
      "\n",
      "추첨된 로또 번호==> 8 20 27 33 40 42 "
     ]
    }
   ],
   "source": [
    "## 함수의 반환값과 매개변수 ##\n",
    "## 로또 프로그램 ##\n",
    "import random\n",
    "\n",
    "##함수 선언부분 ##\n",
    "def getNumber():\n",
    "    return random.randrange(1,46) # \n",
    "\n",
    "## 전역 변수 선언 부분 ##\n",
    "lotto = [] # 로또 숫자를 저장할 lotto리스트\n",
    "num = 0 # 추첨된 숫자를 임시 저장할 변수\n",
    "\n",
    "##메인코드\n",
    "print('** 로또 추첨을 시작합니다. **\\n')\n",
    "\n",
    "while True :   # 무한반복\n",
    "    num = getNumber()\n",
    "    \n",
    "    if lotto.count(num)==0:  # 이미 뽑힌 숫자가 lotto[]에 들어있지 않아야 함수에 추가\n",
    "        lotto.append(num)\n",
    "        \n",
    "    if len(lotto) >= 6:\n",
    "        break\n",
    "        \n",
    "print(\"추첨된 로또 번호==> \", end = '')\n",
    "lotto.sort() # 뽑힌 숫자 6개를 정렬\n",
    "for i in range(0,6):\n",
    "    print(\"%d\" % lotto[i], end=' ' )"
   ]
  },
  {
   "cell_type": "code",
   "execution_count": null,
   "id": "98c5968b",
   "metadata": {},
   "outputs": [],
   "source": []
  }
 ],
 "metadata": {
  "kernelspec": {
   "display_name": "Python 3 (ipykernel)",
   "language": "python",
   "name": "python3"
  },
  "language_info": {
   "codemirror_mode": {
    "name": "ipython",
    "version": 3
   },
   "file_extension": ".py",
   "mimetype": "text/x-python",
   "name": "python",
   "nbconvert_exporter": "python",
   "pygments_lexer": "ipython3",
   "version": "3.10.1"
  }
 },
 "nbformat": 4,
 "nbformat_minor": 5
}
