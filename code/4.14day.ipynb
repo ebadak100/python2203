{
 "cells": [
  {
   "cell_type": "code",
   "execution_count": 2,
   "id": "bfce8482",
   "metadata": {},
   "outputs": [],
   "source": [
    "x = 5\n",
    "if x == 10:\n",
    "    print('10입니다.')"
   ]
  },
  {
   "cell_type": "code",
   "execution_count": 5,
   "id": "cf2bcdf0",
   "metadata": {},
   "outputs": [],
   "source": [
    "x = 5\n",
    "\n",
    "if x == 10:\n",
    "    print('x에 들어있는 숫자는')\n",
    "    print('10입니다.')"
   ]
  },
  {
   "cell_type": "code",
   "execution_count": 7,
   "id": "4b028688",
   "metadata": {},
   "outputs": [
    {
     "name": "stdout",
     "output_type": "stream",
     "text": [
      "임의 숫자 입력 :50\n",
      "100보다 작은수\n",
      "프로그램 종료\n"
     ]
    }
   ],
   "source": [
    "a = int(input('임의 숫자 입력 :'))\n",
    "\n",
    "if a <100:\n",
    "    print('100보다 작은수')\n",
    "print('프로그램 종료')"
   ]
  },
  {
   "cell_type": "code",
   "execution_count": 12,
   "id": "5e288e37",
   "metadata": {},
   "outputs": [
    {
     "name": "stdout",
     "output_type": "stream",
     "text": [
      "임의 숫자 입력 :50\n",
      "pass\n"
     ]
    }
   ],
   "source": [
    "x = int(input('임의 숫자 입력 :'))\n",
    "\n",
    "if x != 20:\n",
    "    print('pass')"
   ]
  },
  {
   "cell_type": "code",
   "execution_count": 19,
   "id": "73085108",
   "metadata": {},
   "outputs": [
    {
     "name": "stdout",
     "output_type": "stream",
     "text": [
      "금액을 입력하세요:10000\n",
      "쿠폰이름을 입력하세요:sale5000\n",
      "5000\n"
     ]
    }
   ],
   "source": [
    "a = int(input('금액을 입력하세요:'))\n",
    "b = str(input('쿠폰이름을 입력하세요:'))\n",
    "\n",
    "if b == 'sale3000':\n",
    "    a -= 3000 # a = a - 3000\n",
    "else:\n",
    "    a -= 5000\n",
    "print(a)\n",
    "\n"
   ]
  },
  {
   "cell_type": "code",
   "execution_count": 18,
   "id": "46378cdd",
   "metadata": {},
   "outputs": [
    {
     "name": "stdout",
     "output_type": "stream",
     "text": [
      "임의 숫자 입력 :200\n",
      "100보다 큰거나 같은수\n"
     ]
    }
   ],
   "source": [
    "a = int(input('임의 숫자 입력 :'))\n",
    "\n",
    "if a < 100:\n",
    "    print('100보다 작은 수')\n",
    "else:\n",
    "    print('100보다 크거나 같은수')\n",
    "    \n",
    "    "
   ]
  },
  {
   "cell_type": "code",
   "execution_count": 22,
   "id": "15637cf3",
   "metadata": {},
   "outputs": [
    {
     "name": "stdout",
     "output_type": "stream",
     "text": [
      "참\n"
     ]
    }
   ],
   "source": [
    "x = 5\n",
    "y = 20\n",
    "\n",
    "if x == 10 or y == 20:\n",
    "    print('참')\n",
    "else:\n",
    "    print('거짓')"
   ]
  },
  {
   "cell_type": "code",
   "execution_count": 24,
   "id": "51857970",
   "metadata": {},
   "outputs": [
    {
     "name": "stdout",
     "output_type": "stream",
     "text": [
      "불합격\n"
     ]
    }
   ],
   "source": [
    "written_test = 75\n",
    "interview_test = True\n",
    "\n",
    "if written_test >= 80 and interview_test == True:\n",
    "    print('합격')\n",
    "else:\n",
    "    print('불합격')"
   ]
  },
  {
   "cell_type": "code",
   "execution_count": 26,
   "id": "b8d232d9",
   "metadata": {},
   "outputs": [
    {
     "name": "stdout",
     "output_type": "stream",
     "text": [
      "50 60 70 200\n",
      "잘못된 점수입니다.\n"
     ]
    }
   ],
   "source": [
    "a,b,c,d = map(int,input().split())\n",
    "\n",
    "if 0 <= a <= 100 and 0 <= b <= 100 and 0 <= c <=100 and 0<=d<=100:\n",
    "    avg = (a+b+c+d)/4\n",
    "    if avg >= 80:\n",
    "        print('합격')\n",
    "    else:\n",
    "        print('불합격')\n",
    "else:\n",
    "    print('잘못된 점수입니다.')\n",
    "    \n"
   ]
  },
  {
   "cell_type": "code",
   "execution_count": 28,
   "id": "b55bc638",
   "metadata": {},
   "outputs": [
    {
     "name": "stdout",
     "output_type": "stream",
     "text": [
      "10도 아니고 20도 아닙니다.\n"
     ]
    }
   ],
   "source": [
    "x = 2\n",
    "if x == 10:\n",
    "    print('10입니다.')\n",
    "elif x == 20:\n",
    "    print('20입니다.')\n",
    "else:\n",
    "    print('10도 아니고 20도 아닙니다.')"
   ]
  },
  {
   "cell_type": "code",
   "execution_count": 29,
   "id": "432a45ce",
   "metadata": {},
   "outputs": [
    {
     "name": "stdout",
     "output_type": "stream",
     "text": [
      "3\n",
      "환타\n"
     ]
    }
   ],
   "source": [
    "button = int(input())\n",
    "\n",
    "if button == 1:\n",
    "    print('콜라')\n",
    "elif button == 2:\n",
    "    print('사이다')\n",
    "elif button == 3:\n",
    "    print('환타')\n",
    "else:\n",
    "    print('제공하지 않는 메뉴')"
   ]
  },
  {
   "cell_type": "code",
   "execution_count": 30,
   "id": "4704b38b",
   "metadata": {},
   "outputs": [
    {
     "name": "stdout",
     "output_type": "stream",
     "text": [
      "당신의 태어난 연도를 입력하세요.\n",
      "1977\n",
      "학생이 아닙니다.\n"
     ]
    }
   ],
   "source": [
    "print(\"당신의 태어난 연도를 입력하세요.\")\n",
    "birth_year = int(input())\n",
    "age = 2022 - int(birth_year) + 1\n",
    "\n",
    "if age <= 26 and age <= 20:\n",
    "    print('대학생')\n",
    "elif age < 20 and age >=17:\n",
    "    print('고등학생')\n",
    "elif age < 17 and age >=14:\n",
    "    print('중학생')\n",
    "elif age <14 and age >=8:\n",
    "    print('초등학생')\n",
    "else:\n",
    "    print('학생이 아닙니다.')\n",
    "    "
   ]
  },
  {
   "cell_type": "code",
   "execution_count": null,
   "id": "6bb9b0b5",
   "metadata": {},
   "outputs": [],
   "source": [
    "gender = input('성별을 입력하세요(M:남자/F:여자):')\n",
    "age = int(input('나이를 입력하세요 :'))\n",
    "\n",
    "if gender == 'M' or gender == 'm':\n",
    "    if age >= 40 :\n",
    "        print('40대 이상 남자')\n",
    "    elif age >=30 :\n",
    "        print('30대 이상 남자')\n",
    "    elif age >= 20:\n",
    "        print('20대 이상 남자')\n",
    "    else:\n",
    "        print('10대 이하 남자')\n",
    "esle :\n",
    "    if age > = 40:\n",
    "        print('40대 이상 여자')\n",
    "    elif age >= 30:\n",
    "        print('30대 이상 여자')\n",
    "    elif age >=20:\n",
    "        print('20대 이상 여자')\n",
    "    else:\n",
    "        print('10대 이하 여자')"
   ]
  },
  {
   "cell_type": "code",
   "execution_count": 34,
   "id": "110f864a",
   "metadata": {},
   "outputs": [
    {
     "name": "stdout",
     "output_type": "stream",
     "text": [
      "탑승자의 나이를 입력하세요 :65\n",
      "남은 잔액은 10000원 입니다\n"
     ]
    }
   ],
   "source": [
    "age = int(input('탑승자의 나이를 입력하세요 :'))\n",
    "card = 10000\n",
    "\n",
    "if age >= 7 and age <= 12:\n",
    "    card -= 650\n",
    "elif age >= 13 and age <= 18:\n",
    "    card -= 1050\n",
    "elif age >= 19 and age <= 64:\n",
    "    card -= 1250\n",
    "else:\n",
    "    card -= 0\n",
    "\n",
    "print('남은 잔액은 %d원 입니다'%card)"
   ]
  },
  {
   "cell_type": "code",
   "execution_count": 36,
   "id": "49868ea1",
   "metadata": {},
   "outputs": [
    {
     "name": "stdout",
     "output_type": "stream",
     "text": [
      "50 80 80\n",
      "총점 : 210 평균 :  70.0 등급 : C\n",
      "국어 점수 : 50\n",
      "영어 점수 : 80\n",
      "사회 점수 : 80\n",
      "등급 : C\n"
     ]
    }
   ],
   "source": [
    "korea, english, socity = map(int,input().split())\n",
    "\n",
    "sum = korea + english + socity\n",
    "avg = sum / 3\n",
    "\n",
    "if avg >= 90:\n",
    "    grade = 'A'\n",
    "elif avg >= 80:\n",
    "    grade = 'B'\n",
    "elif avg >=70:\n",
    "    grade = \"C\"\n",
    "else:\n",
    "    grade = 'F'\n",
    "    \n",
    "print('총점 : %d 평균 : %5.1f 등급 : %s'%(sum,avg,grade))\n",
    "print('국어 점수 : %d'%korea)\n",
    "print('영어 점수 : %d'%english)\n",
    "print('사회 점수 : %d'%socity)\n",
    "print('등급 : %s'%grade)"
   ]
  },
  {
   "cell_type": "code",
   "execution_count": 37,
   "id": "1ac6af84",
   "metadata": {},
   "outputs": [
    {
     "name": "stdout",
     "output_type": "stream",
     "text": [
      "hi 0\n",
      "hi 1\n",
      "hi 2\n",
      "hi 3\n",
      "hi 4\n",
      "hi 5\n",
      "hi 6\n",
      "hi 7\n",
      "hi 8\n",
      "hi 9\n",
      "hi 10\n",
      "hi 11\n",
      "hi 12\n",
      "hi 13\n",
      "hi 14\n",
      "hi 15\n",
      "hi 16\n",
      "hi 17\n",
      "hi 18\n",
      "hi 19\n",
      "hi 20\n",
      "hi 21\n",
      "hi 22\n",
      "hi 23\n",
      "hi 24\n",
      "hi 25\n",
      "hi 26\n",
      "hi 27\n",
      "hi 28\n",
      "hi 29\n",
      "hi 30\n",
      "hi 31\n",
      "hi 32\n",
      "hi 33\n",
      "hi 34\n",
      "hi 35\n",
      "hi 36\n",
      "hi 37\n",
      "hi 38\n",
      "hi 39\n",
      "hi 40\n",
      "hi 41\n",
      "hi 42\n",
      "hi 43\n",
      "hi 44\n",
      "hi 45\n",
      "hi 46\n",
      "hi 47\n",
      "hi 48\n",
      "hi 49\n",
      "hi 50\n",
      "hi 51\n",
      "hi 52\n",
      "hi 53\n",
      "hi 54\n",
      "hi 55\n",
      "hi 56\n",
      "hi 57\n",
      "hi 58\n",
      "hi 59\n",
      "hi 60\n",
      "hi 61\n",
      "hi 62\n",
      "hi 63\n",
      "hi 64\n",
      "hi 65\n",
      "hi 66\n",
      "hi 67\n",
      "hi 68\n",
      "hi 69\n",
      "hi 70\n",
      "hi 71\n",
      "hi 72\n",
      "hi 73\n",
      "hi 74\n",
      "hi 75\n",
      "hi 76\n",
      "hi 77\n",
      "hi 78\n",
      "hi 79\n",
      "hi 80\n",
      "hi 81\n",
      "hi 82\n",
      "hi 83\n",
      "hi 84\n",
      "hi 85\n",
      "hi 86\n",
      "hi 87\n",
      "hi 88\n",
      "hi 89\n",
      "hi 90\n",
      "hi 91\n",
      "hi 92\n",
      "hi 93\n",
      "hi 94\n",
      "hi 95\n",
      "hi 96\n",
      "hi 97\n",
      "hi 98\n",
      "hi 99\n"
     ]
    }
   ],
   "source": [
    "for i in range(100):\n",
    "    print('hi',i)"
   ]
  },
  {
   "cell_type": "code",
   "execution_count": 40,
   "id": "686eb751",
   "metadata": {},
   "outputs": [
    {
     "name": "stdout",
     "output_type": "stream",
     "text": [
      "for문을 공부중입니다. 0\n",
      "for문을 공부중입니다. 3\n",
      "for문을 공부중입니다. 6\n",
      "for문을 공부중입니다. 9\n"
     ]
    }
   ],
   "source": [
    "for i in range(0,10,3):\n",
    "    print('for문을 공부중입니다.',i)"
   ]
  },
  {
   "cell_type": "code",
   "execution_count": 44,
   "id": "ca360bc9",
   "metadata": {},
   "outputs": [
    {
     "name": "stdout",
     "output_type": "stream",
     "text": [
      "1부터 10까지의 합 : 2500\n"
     ]
    }
   ],
   "source": [
    "sum = 0\n",
    "for i in range(1, 101,2):\n",
    "    sum += i\n",
    "print('1부터 10까지의 합 : %d'%sum)"
   ]
  },
  {
   "cell_type": "code",
   "execution_count": 48,
   "id": "74e81d8e",
   "metadata": {},
   "outputs": [
    {
     "name": "stdout",
     "output_type": "stream",
     "text": [
      "몇단을 출력할건지 입력하세요 :3\n",
      "3 * 1 = 3\n",
      "3 * 1 = 3\n",
      "3 * 2 = 6\n",
      "3 * 2 = 6\n",
      "3 * 3 = 9\n",
      "3 * 3 = 9\n",
      "3 * 4 = 12\n",
      "3 * 4 = 12\n",
      "3 * 5 = 15\n",
      "3 * 5 = 15\n",
      "3 * 6 = 18\n",
      "3 * 6 = 18\n",
      "3 * 7 = 21\n",
      "3 * 7 = 21\n",
      "3 * 8 = 24\n",
      "3 * 8 = 24\n",
      "3 * 9 = 27\n",
      "3 * 9 = 27\n"
     ]
    }
   ],
   "source": [
    "n = int(input('몇단을 출력할건지 입력하세요 :'))\n",
    "\n",
    "for i in range(1,10):\n",
    "    print(n,'*',i,'=',n*i)\n",
    "    print('%d * %d = %d'%(n,i,n*i))\n",
    "\n"
   ]
  },
  {
   "cell_type": "code",
   "execution_count": 51,
   "id": "ce4e9eab",
   "metadata": {},
   "outputs": [
    {
     "name": "stdout",
     "output_type": "stream",
     "text": [
      "1부터 10까지의 숫자중 3의 배수값은 18 입니다.\n"
     ]
    }
   ],
   "source": [
    "# 1부터 10까지의 숫자중 3의 배수의 합계를 구하시오.\n",
    "sum = 0\n",
    "\n",
    "for num in range(11):\n",
    "    if num % 3 == 0:\n",
    "        sum += num\n",
    "print('1부터 10까지의 숫자중 3의 배수값은 %d 입니다.'%sum)\n"
   ]
  },
  {
   "cell_type": "code",
   "execution_count": 52,
   "id": "bb12247a",
   "metadata": {},
   "outputs": [
    {
     "name": "stdout",
     "output_type": "stream",
     "text": [
      "파이썬 중첩 (i값 : 0, k값:0)\n",
      "파이썬 중첩 (i값 : 0, k값:1)\n",
      "파이썬 중첩 (i값 : 1, k값:0)\n",
      "파이썬 중첩 (i값 : 1, k값:1)\n",
      "파이썬 중첩 (i값 : 2, k값:0)\n",
      "파이썬 중첩 (i값 : 2, k값:1)\n"
     ]
    }
   ],
   "source": [
    "for i in range(0,3,1):\n",
    "    for k in range(0,2,1):\n",
    "        print('파이썬 중첩 (i값 : %d, k값:%d)'%(i,k))"
   ]
  },
  {
   "cell_type": "code",
   "execution_count": 55,
   "id": "a053afb3",
   "metadata": {},
   "outputs": [
    {
     "name": "stdout",
     "output_type": "stream",
     "text": [
      "*****\n",
      "*****\n",
      "*****\n",
      "*****\n",
      "*****\n"
     ]
    }
   ],
   "source": [
    "for i in range(5):\n",
    "    for j in range(5):\n",
    "        print('*',end='')\n",
    "    print()"
   ]
  },
  {
   "cell_type": "code",
   "execution_count": 58,
   "id": "eab8f98e",
   "metadata": {},
   "outputs": [
    {
     "name": "stdout",
     "output_type": "stream",
     "text": [
      "*\n",
      "**\n",
      "***\n",
      "****\n",
      "*****\n"
     ]
    }
   ],
   "source": [
    "for i in range(5):\n",
    "    for j in range(5):\n",
    "        if j <= i:\n",
    "            print('*', end='')\n",
    "    print()"
   ]
  },
  {
   "cell_type": "code",
   "execution_count": 59,
   "id": "981d4b7f",
   "metadata": {},
   "outputs": [
    {
     "name": "stdout",
     "output_type": "stream",
     "text": [
      "*    \n",
      " *   \n",
      "  *  \n",
      "   * \n",
      "    *\n"
     ]
    }
   ],
   "source": [
    "for i in range(5):\n",
    "    for j in range(5):\n",
    "        if j == i:\n",
    "            print('*', end='')\n",
    "        else:\n",
    "            print(' ', end='')\n",
    "    print()   \n",
    "    "
   ]
  },
  {
   "cell_type": "code",
   "execution_count": null,
   "id": "241b5366",
   "metadata": {},
   "outputs": [],
   "source": []
  },
  {
   "cell_type": "code",
   "execution_count": null,
   "id": "ea02b59c",
   "metadata": {},
   "outputs": [],
   "source": []
  }
 ],
 "metadata": {
  "kernelspec": {
   "display_name": "Python 3 (ipykernel)",
   "language": "python",
   "name": "python3"
  },
  "language_info": {
   "codemirror_mode": {
    "name": "ipython",
    "version": 3
   },
   "file_extension": ".py",
   "mimetype": "text/x-python",
   "name": "python",
   "nbconvert_exporter": "python",
   "pygments_lexer": "ipython3",
   "version": "3.10.4"
  }
 },
 "nbformat": 4,
 "nbformat_minor": 5
}
