{
 "cells": [
  {
   "cell_type": "code",
   "execution_count": 1,
   "id": "acb2b17a",
   "metadata": {},
   "outputs": [],
   "source": [
    "def hello():\n",
    "    print('hello! wordl!')"
   ]
  },
  {
   "cell_type": "code",
   "execution_count": 2,
   "id": "c74a60c1",
   "metadata": {},
   "outputs": [
    {
     "name": "stdout",
     "output_type": "stream",
     "text": [
      "hello! wordl!\n"
     ]
    }
   ],
   "source": [
    "hello()"
   ]
  },
  {
   "cell_type": "code",
   "execution_count": 3,
   "id": "81b3dd23",
   "metadata": {},
   "outputs": [
    {
     "name": "stdout",
     "output_type": "stream",
     "text": [
      "hello! wordl!\n"
     ]
    }
   ],
   "source": [
    "hello()\n"
   ]
  },
  {
   "cell_type": "code",
   "execution_count": 4,
   "id": "497f3d05",
   "metadata": {},
   "outputs": [],
   "source": [
    "def greet(name):\n",
    "    print('hello, ' + name + 'Good Morning')"
   ]
  },
  {
   "cell_type": "code",
   "execution_count": 6,
   "id": "a9a59b15",
   "metadata": {},
   "outputs": [
    {
     "name": "stdout",
     "output_type": "stream",
     "text": [
      "hello, 철수야Good Morning\n",
      "hello, 영수야Good Morning\n"
     ]
    }
   ],
   "source": [
    "greet('철수야')\n",
    "greet('영수야')"
   ]
  },
  {
   "cell_type": "code",
   "execution_count": 9,
   "id": "0d26aebf",
   "metadata": {},
   "outputs": [
    {
     "name": "stdout",
     "output_type": "stream",
     "text": [
      "이름 : 홍길동\n",
      "나이 : 19\n",
      "주소 : 청주시 상당구\n"
     ]
    }
   ],
   "source": [
    "def personalInfo(age, name, address):\n",
    "    print('이름 :', name)\n",
    "    print('나이 :', age)\n",
    "    print('주소 :', address)\n",
    "\n",
    "personalInfo(age = 19, name = '홍길동', address = '청주시 상당구')"
   ]
  },
  {
   "cell_type": "code",
   "execution_count": 12,
   "id": "1b686941",
   "metadata": {},
   "outputs": [],
   "source": [
    "def sum(a,b):\n",
    "    print(a + b)"
   ]
  },
  {
   "cell_type": "code",
   "execution_count": 13,
   "id": "728c2041",
   "metadata": {},
   "outputs": [
    {
     "name": "stdout",
     "output_type": "stream",
     "text": [
      "30\n"
     ]
    }
   ],
   "source": [
    "sum(10,20)"
   ]
  },
  {
   "cell_type": "code",
   "execution_count": 15,
   "id": "8c4e27a3",
   "metadata": {},
   "outputs": [
    {
     "name": "stdout",
     "output_type": "stream",
     "text": [
      "숫자 a를 입력해주세요 :10\n",
      "숫자 b를 입력해주세요 :20\n",
      "10 + 20 = 30\n"
     ]
    }
   ],
   "source": [
    "def sum(num1, num2):\n",
    "    print('{0:d} + {1:d} = {2:d}'.format(num1, num2, num1 + num2))\n",
    "    \n",
    "a = int(input('숫자 a를 입력해주세요 :'))\n",
    "b = int(input('숫자 b를 입력해주세요 :'))\n",
    "\n",
    "sum(a,b)"
   ]
  },
  {
   "cell_type": "code",
   "execution_count": 16,
   "id": "88bb9500",
   "metadata": {},
   "outputs": [],
   "source": [
    "def add(a,b):\n",
    "    return a + b"
   ]
  },
  {
   "cell_type": "code",
   "execution_count": 18,
   "id": "2b6791b1",
   "metadata": {},
   "outputs": [],
   "source": [
    "x = add(10,20)"
   ]
  },
  {
   "cell_type": "code",
   "execution_count": 20,
   "id": "0287744a",
   "metadata": {},
   "outputs": [
    {
     "name": "stdout",
     "output_type": "stream",
     "text": [
      "30\n",
      "200\n"
     ]
    }
   ],
   "source": [
    "def functionAdd(num1, num2):\n",
    "    return num1 + num2, num1 * num2\n",
    "r1, r2 = functionAdd(10,20)\n",
    "print(r1)\n",
    "print(r2)"
   ]
  },
  {
   "cell_type": "code",
   "execution_count": 26,
   "id": "2fa35510",
   "metadata": {},
   "outputs": [
    {
     "name": "stdout",
     "output_type": "stream",
     "text": [
      "30\n",
      "이 함수는 a와 b를 더한 뒤 결과를 반환하는 함수입니다.\n"
     ]
    }
   ],
   "source": [
    "def add(a,b):\n",
    "    \"\"\"이 함수는 a와 b를 더한 뒤 결과를 반환하는 함수입니다.\"\"\"\n",
    "    # 여기는 주석입니다.\n",
    "    \n",
    "    return a + b\n",
    "    x =  add(10,20)\n",
    "    \n",
    "print(x)\n",
    "print(add.__doc__)"
   ]
  },
  {
   "cell_type": "code",
   "execution_count": 29,
   "id": "21a0b470",
   "metadata": {},
   "outputs": [
    {
     "name": "stdout",
     "output_type": "stream",
     "text": [
      "10\n",
      "30\n",
      "60\n"
     ]
    }
   ],
   "source": [
    "def total(a, b=0, c=0):\n",
    "    print(a + b + c)\n",
    "    \n",
    "total(10)\n",
    "total(10, 20)\n",
    "total(10, 20, 30)"
   ]
  },
  {
   "cell_type": "code",
   "execution_count": 33,
   "id": "050df782",
   "metadata": {},
   "outputs": [],
   "source": [
    "def varSum(*numbers):\n",
    "    print(numbers)\n",
    "    sum = 0\n",
    "    for number in numbers:\n",
    "        sum += number\n",
    "    return sum\n"
   ]
  },
  {
   "cell_type": "code",
   "execution_count": 36,
   "id": "c4d36008",
   "metadata": {},
   "outputs": [
    {
     "name": "stdout",
     "output_type": "stream",
     "text": [
      "(1,)\n",
      "1\n",
      "(1, 2)\n",
      "3\n",
      "(1, 2, 3)\n",
      "6\n"
     ]
    }
   ],
   "source": [
    "print(varSum(1))\n",
    "print(varSum(1,2))\n",
    "print(varSum(1,2,3))"
   ]
  },
  {
   "cell_type": "code",
   "execution_count": 37,
   "id": "942cb07b",
   "metadata": {},
   "outputs": [
    {
     "name": "stdout",
     "output_type": "stream",
     "text": [
      "11\n",
      "9\n"
     ]
    }
   ],
   "source": [
    "def calc(a,b):\n",
    "    add = a + b\n",
    "    sub = a - b\n",
    "    return add, sub\n",
    "add, sub = calc(10, 1)\n",
    "\n",
    "print(add)\n",
    "print(sub)"
   ]
  },
  {
   "cell_type": "code",
   "execution_count": 38,
   "id": "f5a6860f",
   "metadata": {},
   "outputs": [
    {
     "name": "stdout",
     "output_type": "stream",
     "text": [
      "30\n",
      "200\n"
     ]
    }
   ],
   "source": [
    "def mul(a, b):\n",
    "    c = a * b\n",
    "    return c\n",
    "\n",
    "def add(a,b):\n",
    "    c = a + b\n",
    "    print(c)\n",
    "    d = mul(a,b)\n",
    "    print(d)\n",
    "    \n",
    "x = 10\n",
    "y = 20\n",
    "add(x,y)"
   ]
  },
  {
   "cell_type": "code",
   "execution_count": 41,
   "id": "2ff3c23b",
   "metadata": {},
   "outputs": [
    {
     "name": "stdout",
     "output_type": "stream",
     "text": [
      "10 20\n",
      "덧셈 : 30, 뺄셈 : -10, 곱셈 : 200, 나눗셈 : 0.5\n"
     ]
    }
   ],
   "source": [
    "x, y = map(int, input().split())\n",
    "\n",
    "def calc(a,b):\n",
    "        return(a+b, a-b, a*b, a/b)\n",
    "a,s,m,d = calc(x,y)\n",
    "print('덧셈 : {0}, 뺄셈 : {1}, 곱셈 : {2}, 나눗셈 : {3}'.format(a,s,m,d))"
   ]
  },
  {
   "cell_type": "code",
   "execution_count": 44,
   "id": "8a5b417d",
   "metadata": {},
   "outputs": [
    {
     "name": "stdout",
     "output_type": "stream",
     "text": [
      "계산을 입력하세요(+,-,*,/) :/\n",
      "첫번째 수를 입력하세요 : 10\n",
      "두번째 수를 입력하세요 :2\n",
      "##계산기 : 10 / 2 = 5\n"
     ]
    }
   ],
   "source": [
    "#함수 선언\n",
    "def calc(v1,v2,op):\n",
    "    result = 0\n",
    "    if op == '+' :\n",
    "        result = v1 + v2\n",
    "    elif op == '-':\n",
    "        result = v1 - v2\n",
    "    elif op == '*':\n",
    "        result = v1 * v2\n",
    "    elif op == '/':\n",
    "        result = v1 / v2\n",
    "    \n",
    "    return result\n",
    "res = 0\n",
    "var1, var2, oper = 0,0,\"\"\n",
    "\n",
    "oper = input('계산을 입력하세요(+,-,*,/) :')\n",
    "var1 = int(input('첫번째 수를 입력하세요 : '))\n",
    "var2 = int(input('두번째 수를 입력하세요 :'))\n",
    "\n",
    "res = calc(var1, var2, oper)\n",
    "print('##계산기 : %d %s %d = %d'%(var1, oper, var2, res))"
   ]
  },
  {
   "cell_type": "code",
   "execution_count": 52,
   "id": "492d9a3b",
   "metadata": {},
   "outputs": [
    {
     "name": "stdout",
     "output_type": "stream",
     "text": [
      "** 로또 추첨을 시작합니다. **\n",
      "\n",
      "추첨된 로또 번호는 ==> 3 4 6 18 29 34 "
     ]
    }
   ],
   "source": [
    "# 로또 프로그램\n",
    "\n",
    "import random\n",
    "\n",
    "def getNumber():\n",
    "    return random.randrange(1, 46)\n",
    "\n",
    "lotto = []\n",
    "num = 0\n",
    "\n",
    "print('** 로또 추첨을 시작합니다. **\\n')\n",
    "while True:\n",
    "    num = getNumber()\n",
    "    \n",
    "    if lotto.count(num) == 0:\n",
    "        lotto.append(num)\n",
    "    if len(lotto) >= 6:\n",
    "        break\n",
    "print(\"추첨된 로또 번호는 ==>\",end = ' ')\n",
    "lotto.sort()\n",
    "for i in range(0, 6):\n",
    "    print(\"%d\"%lotto[i],end=' ')\n"
   ]
  },
  {
   "cell_type": "code",
   "execution_count": 53,
   "id": "b0091ef0",
   "metadata": {},
   "outputs": [
    {
     "name": "stdout",
     "output_type": "stream",
     "text": [
      "20\n",
      "10\n"
     ]
    }
   ],
   "source": [
    "x = 10\n",
    "def foo():\n",
    "    x = 20\n",
    "    print(x)\n",
    "foo()\n",
    "print(x)"
   ]
  },
  {
   "cell_type": "code",
   "execution_count": 54,
   "id": "9d417b83",
   "metadata": {},
   "outputs": [
    {
     "name": "stdout",
     "output_type": "stream",
     "text": [
      "지역변수\n",
      "전역변수\n",
      "전역변수\n"
     ]
    }
   ],
   "source": [
    "def func():\n",
    "    global global_var\n",
    "    local_var= '지역변수'\n",
    "    print(local_var)\n",
    "    print(global_var)\n",
    "    \n",
    "global_var = \"전역변수\"\n",
    "func()\n",
    "print(global_var)"
   ]
  },
  {
   "cell_type": "code",
   "execution_count": 56,
   "id": "b338edc5",
   "metadata": {},
   "outputs": [
    {
     "name": "stdout",
     "output_type": "stream",
     "text": [
      "10\n",
      "지역변수값: 20\n",
      "10\n"
     ]
    },
    {
     "ename": "NameError",
     "evalue": "name 't' is not defined",
     "output_type": "error",
     "traceback": [
      "\u001b[1;31m--------------------------------------------\u001b[0m",
      "\u001b[1;31mNameError\u001b[0m  Traceback (most recent call last)",
      "Input \u001b[1;32mIn [56]\u001b[0m, in \u001b[0;36m<cell line: 9>\u001b[1;34m()\u001b[0m\n\u001b[0;32m      7\u001b[0m test(x)\n\u001b[0;32m      8\u001b[0m \u001b[38;5;28mprint\u001b[39m(x)\n\u001b[1;32m----> 9\u001b[0m \u001b[38;5;28mprint\u001b[39m(\u001b[43mt\u001b[49m)\n",
      "\u001b[1;31mNameError\u001b[0m: name 't' is not defined"
     ]
    }
   ],
   "source": [
    "def test(t):\n",
    "    print(x)\n",
    "    t = 20\n",
    "    print('지역변수값:',t)\n",
    "    \n",
    "x = 10\n",
    "test(x)\n",
    "print(x)\n",
    "print(t)"
   ]
  },
  {
   "cell_type": "code",
   "execution_count": null,
   "id": "c39711fd",
   "metadata": {},
   "outputs": [],
   "source": []
  },
  {
   "cell_type": "code",
   "execution_count": null,
   "id": "3e687005",
   "metadata": {},
   "outputs": [],
   "source": []
  },
  {
   "cell_type": "code",
   "execution_count": null,
   "id": "b70e8145",
   "metadata": {},
   "outputs": [],
   "source": []
  },
  {
   "cell_type": "code",
   "execution_count": null,
   "id": "88998ad4",
   "metadata": {},
   "outputs": [],
   "source": []
  }
 ],
 "metadata": {
  "kernelspec": {
   "display_name": "Python 3 (ipykernel)",
   "language": "python",
   "name": "python3"
  },
  "language_info": {
   "codemirror_mode": {
    "name": "ipython",
    "version": 3
   },
   "file_extension": ".py",
   "mimetype": "text/x-python",
   "name": "python",
   "nbconvert_exporter": "python",
   "pygments_lexer": "ipython3",
   "version": "3.10.4"
  }
 },
 "nbformat": 4,
 "nbformat_minor": 5
}
