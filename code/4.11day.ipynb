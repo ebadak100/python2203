{
 "cells": [
  {
   "cell_type": "code",
   "execution_count": 9,
   "id": "4a43e83c",
   "metadata": {},
   "outputs": [
    {
     "name": "stdout",
     "output_type": "stream",
     "text": [
      "10 20\n",
      "10 + 20 = 30\n",
      "10 * 20 = 200\n"
     ]
    }
   ],
   "source": [
    "#주석문입니다.\n",
    "## 주석문입니다 ##\n",
    "\n",
    "x,y = map(int,input().split())\n",
    "\n",
    "print(x,'+',y,'=',x+y)\n",
    "print(x,'*',y,'=',x*y)"
   ]
  },
  {
   "cell_type": "code",
   "execution_count": 12,
   "id": "9bf8528b",
   "metadata": {},
   "outputs": [
    {
     "name": "stdout",
     "output_type": "stream",
     "text": [
      "p     y     t     h     o     n\n"
     ]
    }
   ],
   "source": [
    "print('p','y','t','h','o','n',sep='     ')"
   ]
  },
  {
   "cell_type": "code",
   "execution_count": 13,
   "id": "f826b717",
   "metadata": {},
   "outputs": [
    {
     "name": "stdout",
     "output_type": "stream",
     "text": [
      "2022-04-11\n"
     ]
    }
   ],
   "source": [
    "print('2022','04','11',sep='-')"
   ]
  },
  {
   "cell_type": "code",
   "execution_count": 14,
   "id": "dce06006",
   "metadata": {},
   "outputs": [
    {
     "name": "stdout",
     "output_type": "stream",
     "text": [
      "ebadak100@naver.com\n"
     ]
    }
   ],
   "source": [
    "print('ebadak100','naver.com',sep='@')"
   ]
  },
  {
   "cell_type": "code",
   "execution_count": 15,
   "id": "f1dad570",
   "metadata": {},
   "outputs": [
    {
     "name": "stdout",
     "output_type": "stream",
     "text": [
      "메일 아이디를 입력하세요.test\n",
      "test@naver.com\n"
     ]
    }
   ],
   "source": [
    "a = input('메일 아이디를 입력하세요.')\n",
    "print(a,'naver.com',sep='@')"
   ]
  },
  {
   "cell_type": "code",
   "execution_count": 16,
   "id": "0e922ad0",
   "metadata": {},
   "outputs": [
    {
     "name": "stdout",
     "output_type": "stream",
     "text": [
      "1\n",
      "2\n",
      "3\n"
     ]
    }
   ],
   "source": [
    "print(1,2,3,sep='\\n')"
   ]
  },
  {
   "cell_type": "code",
   "execution_count": 17,
   "id": "d3dcc753",
   "metadata": {},
   "outputs": [
    {
     "name": "stdout",
     "output_type": "stream",
     "text": [
      "Welcom To\n",
      "Korea IT\n",
      "Academy\n",
      "====\n",
      "Welcom To Korea IT Academy\n"
     ]
    }
   ],
   "source": [
    "print('Welcom To')\n",
    "print('Korea IT')\n",
    "print('Academy')\n",
    "print('====')\n",
    "print('Welcom To', end=' ')\n",
    "print('Korea IT', end=' ')\n",
    "print('Academy')"
   ]
  },
  {
   "cell_type": "code",
   "execution_count": 19,
   "id": "6a0ad08d",
   "metadata": {},
   "outputs": [
    {
     "name": "stdout",
     "output_type": "stream",
     "text": [
      "Hello, Korea IT, Academy\n"
     ]
    }
   ],
   "source": [
    "a = 'Hello'\n",
    "b = 'Korea IT'\n",
    "c = 'Academy'\n",
    "\n",
    "print('%s, %s, %s'%(a,b,c))"
   ]
  },
  {
   "cell_type": "code",
   "execution_count": 20,
   "id": "db3a1934",
   "metadata": {},
   "outputs": [
    {
     "name": "stdout",
     "output_type": "stream",
     "text": [
      "0000000010  3.1400 korea\n"
     ]
    }
   ],
   "source": [
    "print('%010d %7.4f %s'%(10, 3.14, 'korea'))"
   ]
  },
  {
   "cell_type": "code",
   "execution_count": 21,
   "id": "6f07bd49",
   "metadata": {},
   "outputs": [
    {
     "name": "stdout",
     "output_type": "stream",
     "text": [
      "6000 원\n"
     ]
    }
   ],
   "source": [
    "a = 1000\n",
    "b = 5000\n",
    "c = a+b\n",
    "print('%d 원'%c)"
   ]
  },
  {
   "cell_type": "code",
   "execution_count": 22,
   "id": "7ddeddd2",
   "metadata": {},
   "outputs": [
    {
     "name": "stdout",
     "output_type": "stream",
     "text": [
      "1000  5000 06000\n"
     ]
    }
   ],
   "source": [
    "print('{0:d} {1:5d} {2:05d}'.format(a,b,c))"
   ]
  },
  {
   "cell_type": "code",
   "execution_count": 27,
   "id": "857d4aa8",
   "metadata": {},
   "outputs": [
    {
     "name": "stdout",
     "output_type": "stream",
     "text": [
      "2022 04 11\n",
      "09 15 50\n",
      "2022/4/11 9:15:50\n"
     ]
    }
   ],
   "source": [
    "year, month, day = map(int,input().split())\n",
    "hour, minute, second= map(int, input().split())\n",
    "\n",
    "print(year, month, day,sep='/', end = ' ')\n",
    "print(hour, minute, second,sep=':')"
   ]
  },
  {
   "cell_type": "code",
   "execution_count": 31,
   "id": "22fb3f26",
   "metadata": {},
   "outputs": [
    {
     "data": {
      "text/plain": [
       "bool"
      ]
     },
     "execution_count": 31,
     "metadata": {},
     "output_type": "execute_result"
    }
   ],
   "source": [
    "num1 = True\n",
    "type(num1)"
   ]
  },
  {
   "cell_type": "code",
   "execution_count": 35,
   "id": "adccee26",
   "metadata": {},
   "outputs": [
    {
     "data": {
      "text/plain": [
       "2"
      ]
     },
     "execution_count": 35,
     "metadata": {},
     "output_type": "execute_result"
    }
   ],
   "source": [
    "5//2\n"
   ]
  },
  {
   "cell_type": "code",
   "execution_count": 37,
   "id": "42300943",
   "metadata": {},
   "outputs": [
    {
     "data": {
      "text/plain": [
       "6"
      ]
     },
     "execution_count": 37,
     "metadata": {},
     "output_type": "execute_result"
    }
   ],
   "source": [
    "2*3\n"
   ]
  },
  {
   "cell_type": "code",
   "execution_count": 38,
   "id": "72c0043b",
   "metadata": {},
   "outputs": [
    {
     "data": {
      "text/plain": [
       "8"
      ]
     },
     "execution_count": 38,
     "metadata": {},
     "output_type": "execute_result"
    }
   ],
   "source": [
    "2**3"
   ]
  },
  {
   "cell_type": "code",
   "execution_count": 40,
   "id": "f1cb0192",
   "metadata": {},
   "outputs": [
    {
     "name": "stdout",
     "output_type": "stream",
     "text": [
      "30\n"
     ]
    }
   ],
   "source": [
    "a= 10\n",
    "a += 20 # a = a + 20\n",
    "print(a)"
   ]
  },
  {
   "cell_type": "code",
   "execution_count": null,
   "id": "5393d92e",
   "metadata": {},
   "outputs": [],
   "source": []
  }
 ],
 "metadata": {
  "kernelspec": {
   "display_name": "Python 3 (ipykernel)",
   "language": "python",
   "name": "python3"
  },
  "language_info": {
   "codemirror_mode": {
    "name": "ipython",
    "version": 3
   },
   "file_extension": ".py",
   "mimetype": "text/x-python",
   "name": "python",
   "nbconvert_exporter": "python",
   "pygments_lexer": "ipython3",
   "version": "3.10.4"
  }
 },
 "nbformat": 4,
 "nbformat_minor": 5
}
