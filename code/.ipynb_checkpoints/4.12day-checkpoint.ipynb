{
 "cells": [
  {
   "cell_type": "code",
   "execution_count": 4,
   "id": "daef1265",
   "metadata": {},
   "outputs": [
    {
     "name": "stdout",
     "output_type": "stream",
     "text": [
      "True\n"
     ]
    }
   ],
   "source": [
    "korean = 92\n",
    "english = 90\n",
    "mathmatics = 86\n",
    "science = 81\n",
    "print(korean >= 80 and english >=80 and mathmatics >=80 and science >=80)"
   ]
  },
  {
   "cell_type": "code",
   "execution_count": 5,
   "id": "526d2f8e",
   "metadata": {},
   "outputs": [
    {
     "name": "stdout",
     "output_type": "stream",
     "text": [
      "첫번째 숫자를 입력하세요20\n",
      "두번째 숫자를 입력하세요10\n",
      "20 + 10 = 30\n",
      "20 - 10 = 10\n",
      "20 * 10 = 200\n",
      "20 / 10 = 2\n"
     ]
    }
   ],
   "source": [
    "# 숫자 두개를 입력받아서 사칙연산을 출력하는 프로그램을 만드시오.\n",
    "\n",
    "# a,b = map(int,input('숫자 두개를 입력하세요').split())\n",
    "a = int(input('첫번째 숫자를 입력하세요'))\n",
    "b = int(input('두번째 숫자를 입력하세요'))\n",
    "\n",
    "print(a,'+',b,'=',a+b)\n",
    "print(a,'-',b,'=',a-b)\n",
    "print('%d * %d = %d'%(a,b,a*b))\n",
    "print('%d / %d = %d'%(a,b,a/b))\n"
   ]
  },
  {
   "cell_type": "code",
   "execution_count": 8,
   "id": "024e4df8",
   "metadata": {},
   "outputs": [
    {
     "name": "stdout",
     "output_type": "stream",
     "text": [
      "교환할 금액을 입력하세요 :8975\n",
      "500원짜리-> 17\n",
      "100원짜리-> 4\n",
      "50원짜리 1개\n",
      "10원짜리 2개\n",
      "바꾸지 못한 잔돈 5 원\n"
     ]
    }
   ],
   "source": [
    "# 동전 교환기\n",
    "money, c500, c100, c50, c10 = 0,0,0,0,0\n",
    "\n",
    "money = int(input('교환할 금액을 입력하세요 :'))\n",
    "\n",
    "c500 = money // 500 # 몫만 구한다.\n",
    "money = money % 500 # 나머지만 구한다.\n",
    "\n",
    "c100 = money // 100\n",
    "money = money % 100\n",
    "\n",
    "c50 = money // 50\n",
    "money %= 50\n",
    "\n",
    "c10 = money // 10\n",
    "money %= 10\n",
    "\n",
    "print('500원짜리->',c500)\n",
    "print('100원짜리->',c100)\n",
    "print('50원짜리 %d개'%c50)\n",
    "print('10원짜리 %d개'%c10)\n",
    "print('바꾸지 못한 잔돈 %d 원'%money)\n",
    "\n",
    "\n",
    "\n"
   ]
  },
  {
   "cell_type": "code",
   "execution_count": 9,
   "id": "bb0ae26c",
   "metadata": {},
   "outputs": [
    {
     "name": "stdout",
     "output_type": "stream",
     "text": [
      "[1, 2, 3]\n"
     ]
    },
    {
     "data": {
      "text/plain": [
       "list"
      ]
     },
     "execution_count": 9,
     "metadata": {},
     "output_type": "execute_result"
    }
   ],
   "source": [
    "lst_a=[1,2,3]\n",
    "print(lst_a)\n",
    "type(lst_a)"
   ]
  },
  {
   "cell_type": "code",
   "execution_count": 11,
   "id": "21f4aa59",
   "metadata": {},
   "outputs": [
    {
     "name": "stdout",
     "output_type": "stream",
     "text": [
      "['홍길동', 19, 181.5, True]\n"
     ]
    }
   ],
   "source": [
    "person=['홍길동',19,181.5,True]\n",
    "print(person)"
   ]
  },
  {
   "cell_type": "code",
   "execution_count": 12,
   "id": "4ac3da4a",
   "metadata": {},
   "outputs": [],
   "source": [
    "lst_a = []\n",
    "lst_b=list()"
   ]
  },
  {
   "cell_type": "code",
   "execution_count": 13,
   "id": "5af233f6",
   "metadata": {},
   "outputs": [
    {
     "name": "stdout",
     "output_type": "stream",
     "text": [
      "[0, 1, 2, 3, 4, 5, 6, 7, 8, 9]\n"
     ]
    }
   ],
   "source": [
    "lst_a = list(range(10))\n",
    "print(lst_a)"
   ]
  },
  {
   "cell_type": "code",
   "execution_count": 17,
   "id": "619377f1",
   "metadata": {},
   "outputs": [
    {
     "name": "stdout",
     "output_type": "stream",
     "text": [
      "['red', 'blue', 'green']\n",
      "red\n",
      "green\n",
      "3\n"
     ]
    }
   ],
   "source": [
    "colors = ['red','blue','green']\n",
    "print(colors)\n",
    "print(colors[0])\n",
    "print(colors[2])\n",
    "print(len(colors))"
   ]
  },
  {
   "cell_type": "code",
   "execution_count": 19,
   "id": "2492d0b8",
   "metadata": {},
   "outputs": [
    {
     "name": "stdout",
     "output_type": "stream",
     "text": [
      "[3, 4]\n",
      "[0, 1, 2, 3, 4, 5, 6, 7, 8, 9]\n"
     ]
    }
   ],
   "source": [
    "lst_a = list(range(10))\n",
    "print(lst_a[3:5])\n",
    "print(lst_a)"
   ]
  },
  {
   "cell_type": "code",
   "execution_count": 24,
   "id": "2e42eacb",
   "metadata": {},
   "outputs": [
    {
     "name": "stdout",
     "output_type": "stream",
     "text": [
      "['서울', '인천', '대전', '울산']\n"
     ]
    }
   ],
   "source": [
    "area = ['서울','부산','인천','대구','대전','광주','울산','수원']\n",
    "print(area[::2])"
   ]
  },
  {
   "cell_type": "code",
   "execution_count": 26,
   "id": "71d9ae03",
   "metadata": {},
   "outputs": [
    {
     "name": "stdout",
     "output_type": "stream",
     "text": [
      "['red', 'blue', 'green', 'white']\n"
     ]
    }
   ],
   "source": [
    "color = ['red','blue','green']\n",
    "color.append('white')\n",
    "print(color)"
   ]
  },
  {
   "cell_type": "code",
   "execution_count": 31,
   "id": "e2b7be54",
   "metadata": {},
   "outputs": [
    {
     "name": "stdout",
     "output_type": "stream",
     "text": [
      "['orange', 'red', 'blue', 'green', 'white']\n"
     ]
    }
   ],
   "source": [
    "color.insert(0,'orange')\n",
    "print(color)"
   ]
  },
  {
   "cell_type": "code",
   "execution_count": 30,
   "id": "6c6f5738",
   "metadata": {},
   "outputs": [
    {
     "name": "stdout",
     "output_type": "stream",
     "text": [
      "['red', 'blue', 'green', 'white']\n"
     ]
    }
   ],
   "source": [
    "color.remove('orange')\n",
    "print(color)"
   ]
  },
  {
   "cell_type": "code",
   "execution_count": 37,
   "id": "512c07c6",
   "metadata": {},
   "outputs": [
    {
     "name": "stdout",
     "output_type": "stream",
     "text": [
      "[1, 2, 3, 4]\n",
      "(1, 2, 3, 4)\n"
     ]
    }
   ],
   "source": [
    "t1 = (1,2,3) # 튜플을 생성\n",
    "lst = list(t1) # 튜플을 lst 리스트로 변환\n",
    "lst.append(4) #맨 마지막에 4를 추가\n",
    "print(lst)\n",
    "t1 = tuple(lst) # 리스트를 튜플로 변환\n",
    "print(t1)"
   ]
  },
  {
   "cell_type": "code",
   "execution_count": 33,
   "id": "e5852dca",
   "metadata": {},
   "outputs": [
    {
     "name": "stdout",
     "output_type": "stream",
     "text": [
      "2\n"
     ]
    }
   ],
   "source": [
    "print(t1[1])"
   ]
  },
  {
   "cell_type": "code",
   "execution_count": 41,
   "id": "3a343aed",
   "metadata": {},
   "outputs": [
    {
     "name": "stdout",
     "output_type": "stream",
     "text": [
      "name 홍길동\n",
      "phone 010-1234-1234\n",
      "addr 청주시 상당구\n"
     ]
    }
   ],
   "source": [
    "dic1 ={'name':'홍길동','phone':'010-1234-1234', 'addr':'청주시 상당구'}\n",
    "for key, value in dic1.items():\n",
    "    print(key,value)\n"
   ]
  },
  {
   "cell_type": "code",
   "execution_count": 43,
   "id": "93b1ff8b",
   "metadata": {},
   "outputs": [
    {
     "name": "stdout",
     "output_type": "stream",
     "text": [
      "{'o', 'e', 'l', 'h'}\n",
      "{1, 2, 3, 4}\n"
     ]
    }
   ],
   "source": [
    "s1 = set('hello')\n",
    "print(s1)\n",
    "s2 = set([1,2,3,3,4])\n",
    "print(s2)"
   ]
  },
  {
   "cell_type": "code",
   "execution_count": 47,
   "id": "d39bdf38",
   "metadata": {},
   "outputs": [
    {
     "name": "stdout",
     "output_type": "stream",
     "text": [
      "{4, 5, 6}\n",
      "{1, 2, 3, 4, 5, 6, 7, 8, 9}\n",
      "{1, 2, 3}\n"
     ]
    }
   ],
   "source": [
    "s1 = set([1,2,3,4,5,6])\n",
    "s2 = set([4,5,6,7,8,9])\n",
    "\n",
    "print(s1 & s2)\n",
    "print(s1 | s2)\n",
    "print(s1 - s2)"
   ]
  },
  {
   "cell_type": "code",
   "execution_count": 48,
   "id": "d7cb3ddc",
   "metadata": {},
   "outputs": [
    {
     "name": "stdout",
     "output_type": "stream",
     "text": [
      "첫번째값을 입력하세요 :10\n",
      "두번째값을 입력하세요 :20\n",
      "세번째값을 입력하세요 :30\n",
      "네번째값을 입력하세요 :40\n",
      "합계는 =  100\n"
     ]
    }
   ],
   "source": [
    "a,b,c,d = 0,0,0,0\n",
    "plus = 0\n",
    "\n",
    "a = int(input('첫번째값을 입력하세요 :'))\n",
    "b = int(input('두번째값을 입력하세요 :'))\n",
    "c = int(input('세번째값을 입력하세요 :'))\n",
    "d = int(input('네번째값을 입력하세요 :'))\n",
    "\n",
    "plus = a + b + c + d\n",
    "\n",
    "print('합계는 = ',plus)"
   ]
  },
  {
   "cell_type": "code",
   "execution_count": 49,
   "id": "709fe9bf",
   "metadata": {},
   "outputs": [
    {
     "name": "stdout",
     "output_type": "stream",
     "text": [
      "첫번째값을 입력하세요 :10\n",
      "두번째값을 입력하세요 :20\n",
      "세번째값을 입력하세요 :30\n",
      "네번째값을 입력하세요 :40\n",
      "합계는 =  100\n"
     ]
    }
   ],
   "source": [
    "aa = [0,0,0,0]\n",
    "plus = 0\n",
    "\n",
    "aa[0] = int(input('첫번째값을 입력하세요 :'))\n",
    "aa[1] = int(input('두번째값을 입력하세요 :'))\n",
    "aa[2] = int(input('세번째값을 입력하세요 :'))\n",
    "aa[3] = int(input('네번째값을 입력하세요 :'))\n",
    "\n",
    "\n",
    "plus = aa[0] + aa[1] + aa[2] + aa[3]\n",
    "\n",
    "print('합계는 = ',plus)\n",
    "\n"
   ]
  },
  {
   "cell_type": "code",
   "execution_count": null,
   "id": "a8da707c",
   "metadata": {},
   "outputs": [],
   "source": []
  }
 ],
 "metadata": {
  "kernelspec": {
   "display_name": "Python 3 (ipykernel)",
   "language": "python",
   "name": "python3"
  },
  "language_info": {
   "codemirror_mode": {
    "name": "ipython",
    "version": 3
   },
   "file_extension": ".py",
   "mimetype": "text/x-python",
   "name": "python",
   "nbconvert_exporter": "python",
   "pygments_lexer": "ipython3",
   "version": "3.10.4"
  }
 },
 "nbformat": 4,
 "nbformat_minor": 5
}
