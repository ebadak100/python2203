{
 "cells": [
  {
   "cell_type": "code",
   "execution_count": 5,
   "id": "e5e36004",
   "metadata": {},
   "outputs": [
    {
     "name": "stdout",
     "output_type": "stream",
     "text": [
      "자동차1의 색상은 빨강이며, 현재 속도는 30km입니다.\n",
      "자동차2의 색상은 파랑이며, 현재 속도는 60km입니다.\n",
      "자동차3의 색상은 노랑이며, 현재 속도는 200km입니다.\n"
     ]
    }
   ],
   "source": [
    "class Car:\n",
    "    color = \"\"\n",
    "    speed = 0\n",
    "    \n",
    "    def upSpeed(self, value):\n",
    "        self.speed += value\n",
    "        if self.speed > 150:\n",
    "            self.speed = 150\n",
    "        \n",
    "    def downSpeed(self, value):\n",
    "        self.speed -= value\n",
    "        \n",
    "\n",
    "Car1 = Car()\n",
    "Car1.color = \"빨강\"\n",
    "Car1.speed = 0\n",
    "Car2 = Car()\n",
    "Car2.color = \"파랑\"\n",
    "Car2.speed = 0\n",
    "Car3 = Car()\n",
    "Car3.color = \"노랑\"\n",
    "Car3.speed = 0\n",
    "\n",
    "Car1.upSpeed(30)\n",
    "print('자동차1의 색상은 %s이며, 현재 속도는 %dkm입니다.'%(Car1.color, Car1.speed))\n",
    "\n",
    "Car2.upSpeed(60)\n",
    "print('자동차2의 색상은 %s이며, 현재 속도는 %dkm입니다.'%(Car2.color, Car2.speed))\n",
    "\n",
    "Car3.upSpeed(200)\n",
    "print('자동차3의 색상은 %s이며, 현재 속도는 %dkm입니다.'%(Car3.color, Car3.speed))\n",
    "\n",
    "\n",
    "    "
   ]
  },
  {
   "cell_type": "code",
   "execution_count": null,
   "id": "d476b8c4",
   "metadata": {},
   "outputs": [],
   "source": []
  },
  {
   "cell_type": "code",
   "execution_count": null,
   "id": "999f190c",
   "metadata": {},
   "outputs": [],
   "source": []
  },
  {
   "cell_type": "code",
   "execution_count": null,
   "id": "4a15c73a",
   "metadata": {},
   "outputs": [],
   "source": []
  },
  {
   "cell_type": "code",
   "execution_count": null,
   "id": "1d68929a",
   "metadata": {},
   "outputs": [],
   "source": []
  },
  {
   "cell_type": "code",
   "execution_count": null,
   "id": "fdebba6e",
   "metadata": {},
   "outputs": [],
   "source": []
  },
  {
   "cell_type": "code",
   "execution_count": null,
   "id": "1f610ba8",
   "metadata": {},
   "outputs": [],
   "source": []
  },
  {
   "cell_type": "code",
   "execution_count": null,
   "id": "1db4523a",
   "metadata": {},
   "outputs": [],
   "source": []
  }
 ],
 "metadata": {
  "kernelspec": {
   "display_name": "Python 3 (ipykernel)",
   "language": "python",
   "name": "python3"
  },
  "language_info": {
   "codemirror_mode": {
    "name": "ipython",
    "version": 3
   },
   "file_extension": ".py",
   "mimetype": "text/x-python",
   "name": "python",
   "nbconvert_exporter": "python",
   "pygments_lexer": "ipython3",
   "version": "3.10.4"
  }
 },
 "nbformat": 4,
 "nbformat_minor": 5
}
