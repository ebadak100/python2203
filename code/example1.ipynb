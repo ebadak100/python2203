{
 "cells": [
  {
   "cell_type": "code",
   "execution_count": 1,
   "id": "ac119a7c",
   "metadata": {},
   "outputs": [
    {
     "name": "stdout",
     "output_type": "stream",
     "text": [
      "첫 번째 숫자를 입력하세요 :100\n",
      "두 번째 숫자를 입력하세요 :50\n",
      "100 + 50 = 150\n",
      "100 - 50 = 50\n",
      "100 * 50 = 5000\n",
      "100 / 50 = 2.0\n"
     ]
    }
   ],
   "source": [
    "a = int(input('첫 번째 숫자를 입력하세요 :'))\n",
    "b = int(input('두 번째 숫자를 입력하세요 :'))\n",
    "\n",
    "result = a + b\n",
    "print(a, \"+\" , b, \"=\",result)\n",
    "result = a - b\n",
    "print(a, \"-\" , b, \"=\",result)\n",
    "result = a * b\n",
    "print(a, \"*\" , b, \"=\",result)\n",
    "result = a / b\n",
    "print(a, \"/\" , b, \"=\",result)\n"
   ]
  },
  {
   "cell_type": "code",
   "execution_count": 2,
   "id": "77a15186",
   "metadata": {},
   "outputs": [
    {
     "name": "stdout",
     "output_type": "stream",
     "text": [
      "첫 번째 숫자를 입력하세요 :100\n",
      "두 번째 숫자를 입력하세요 :50\n",
      "100 + 50 = 150\n",
      "100 - 50 = 50\n",
      "100 * 50 = 5000\n",
      "100 / 50 = 2.0\n"
     ]
    }
   ],
   "source": [
    "a = int(input('첫 번째 숫자를 입력하세요 :'))\n",
    "b = int(input('두 번째 숫자를 입력하세요 :'))\n",
    "\n",
    "print(a, \"+\" , b, \"=\",a+b)\n",
    "\n",
    "print(a, \"-\" , b, \"=\",a-b)\n",
    "\n",
    "print(a, \"*\" , b, \"=\",a*b)\n",
    "\n",
    "print(a, \"/\" , b, \"=\",a/b)"
   ]
  },
  {
   "cell_type": "code",
   "execution_count": 5,
   "id": "c21766f8",
   "metadata": {},
   "outputs": [
    {
     "name": "stdout",
     "output_type": "stream",
     "text": [
      "교환할 금액을 입력하시오 :7777\n",
      "500원짜리 =>15개\n",
      "100원짜리 =>2개\n",
      "50원짜리 =>1개\n",
      "10원짜리 =>2개\n",
      "바꾸지 못한 잔돈=>7원\n"
     ]
    }
   ],
   "source": [
    "# 동전 교환 프로그램\n",
    "## 변수 선언 부분 ##\n",
    "money, c500, c100, c50, c10 = 0,0,0,0,0\n",
    "\n",
    "##메인 코드 부분\n",
    "money = int(input('교환할 금액을 입력하시오 :'))\n",
    "\n",
    "c500 = money // 500\n",
    "money %= 500\n",
    "\n",
    "c100 = money // 100\n",
    "money %= 100\n",
    "\n",
    "c50 = money // 50\n",
    "money %= 50\n",
    "\n",
    "c10 = money // 10\n",
    "money %= 10\n",
    "\n",
    "print(\"500원짜리 =>%d개\" % c500)\n",
    "print(\"100원짜리 =>%d개\" % c100)\n",
    "print(\"50원짜리 =>%d개\" % c50)\n",
    "print(\"10원짜리 =>%d개\" % c10)\n",
    "print(\"바꾸지 못한 잔돈=>%d원\" % money)\n"
   ]
  },
  {
   "cell_type": "code",
   "execution_count": 7,
   "id": "09053027",
   "metadata": {},
   "outputs": [
    {
     "name": "stdout",
     "output_type": "stream",
     "text": [
      "첫 번째숫자 :10\n",
      "두 번째숫자 :20\n",
      "세 번째숫자 :30\n",
      "네 번째숫자 :40\n",
      "합계 ==> 100\n"
     ]
    }
   ],
   "source": [
    "# 리스트 의 필요성\n",
    "a,b,c,d = 0,0,0,0\n",
    "hap = 0\n",
    "\n",
    "a = int(input('첫 번째숫자 :'))\n",
    "b = int(input('두 번째숫자 :'))\n",
    "c = int(input('세 번째숫자 :'))\n",
    "d = int(input('네 번째숫자 :'))\n",
    "\n",
    "hap = a + b + c + d\n",
    "\n",
    "print('합계 ==> %d'%hap)\n"
   ]
  },
  {
   "cell_type": "code",
   "execution_count": 8,
   "id": "692fe229",
   "metadata": {},
   "outputs": [
    {
     "name": "stdout",
     "output_type": "stream",
     "text": [
      "첫 번째숫자 :10\n",
      "두 번째숫자 :20\n",
      "세 번째숫자 :30\n",
      "네 번째숫자 :40\n",
      "합계 ==> 100\n"
     ]
    }
   ],
   "source": [
    "# 리스트 의 필요성\n",
    "aa = [0,0,0,0]\n",
    "hap = 0\n",
    "\n",
    "aa[0] = int(input('첫 번째숫자 :'))\n",
    "aa[1] = int(input('두 번째숫자 :'))\n",
    "aa[2] = int(input('세 번째숫자 :'))\n",
    "aa[3] = int(input('네 번째숫자 :'))\n",
    "\n",
    "hap = aa[0] + aa[1] + aa[2] + aa[3]\n",
    "\n",
    "print('합계 ==> %d'%hap)"
   ]
  },
  {
   "cell_type": "code",
   "execution_count": null,
   "id": "39ceff86",
   "metadata": {},
   "outputs": [],
   "source": []
  }
 ],
 "metadata": {
  "kernelspec": {
   "display_name": "Python 3 (ipykernel)",
   "language": "python",
   "name": "python3"
  },
  "language_info": {
   "codemirror_mode": {
    "name": "ipython",
    "version": 3
   },
   "file_extension": ".py",
   "mimetype": "text/x-python",
   "name": "python",
   "nbconvert_exporter": "python",
   "pygments_lexer": "ipython3",
   "version": "3.10.1"
  }
 },
 "nbformat": 4,
 "nbformat_minor": 5
}
